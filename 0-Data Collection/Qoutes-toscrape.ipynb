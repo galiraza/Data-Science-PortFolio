{
 "cells": [
  {
   "cell_type": "markdown",
   "metadata": {},
   "source": [
    "# Improting Libraries"
   ]
  },
  {
   "cell_type": "code",
   "execution_count": 1,
   "metadata": {},
   "outputs": [],
   "source": [
    "import requests\n",
    "from bs4 import BeautifulSoup\n",
    "import pandas as pd"
   ]
  },
  {
   "cell_type": "code",
   "execution_count": null,
   "metadata": {},
   "outputs": [
    {
     "name": "stdout",
     "output_type": "stream",
     "text": [
      "Scraping Page No : 1\n",
      "Scraping Page No : 2\n",
      "Scraping Page No : 3\n",
      "Scraping Page No : 4\n",
      "Scraping Page No : 5\n",
      "Scraping Page No : 6\n",
      "Scraping Page No : 7\n",
      "Scraping Page No : 8\n",
      "Scraping Page No : 9\n",
      "Scraping Page No : 10\n"
     ]
    }
   ],
   "source": [
    "# list to store data\n",
    "data=[]\n",
    "\n",
    "proceed=True # ya ik  Boolean variable ya condition check kernay ka liay for while loop\n",
    "current_page=1 # ya webscrape kernay ka liay 1 page ha jo next page kaliay increment ho jay ga\n",
    "while(True): # ya infinite loop ha chalti rhy gi jab tak isy brake na kia jiay\n",
    "    print(\"Scraping Page No : \" +str(current_page))\n",
    "    url='https://quotes.toscrape.com/page/' + str(current_page)+'/'\n",
    "    response=requests.get(url)\n",
    "    soup=BeautifulSoup(response.text,'html.parser')\n",
    "    qoutes=soup.find_all('div',class_='quote')\n",
    "    for q in qoutes:\n",
    "        item={} # ya empty dictionry ha jo scrped item ko store kray gi and phir data ka andar apend ker day gi\n",
    "        item['name']=q.find('span',class_='text').text.strip()\n",
    "        data.append(item)\n",
    "    current_page+=1\n",
    "    if current_page==11:\n",
    "        break\n",
    "    else:\n",
    "        pass\n",
    "\n",
    "    df=pd.DataFrame(data)\n",
    "    df.to_csv('Qoutes.csv')\n"
   ]
  },
  {
   "cell_type": "code",
   "execution_count": null,
   "metadata": {},
   "outputs": [],
   "source": []
  }
 ],
 "metadata": {
  "kernelspec": {
   "display_name": "Python 3",
   "language": "python",
   "name": "python3"
  },
  "language_info": {
   "codemirror_mode": {
    "name": "ipython",
    "version": 3
   },
   "file_extension": ".py",
   "mimetype": "text/x-python",
   "name": "python",
   "nbconvert_exporter": "python",
   "pygments_lexer": "ipython3",
   "version": "3.13.1"
  }
 },
 "nbformat": 4,
 "nbformat_minor": 2
}
